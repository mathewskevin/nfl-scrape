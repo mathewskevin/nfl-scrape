{
 "cells": [
  {
   "cell_type": "code",
   "execution_count": 21,
   "metadata": {},
   "outputs": [],
   "source": [
    "import os\n",
    "import pandas as pd\n",
    "import pdb"
   ]
  },
  {
   "cell_type": "code",
   "execution_count": 71,
   "metadata": {},
   "outputs": [],
   "source": [
    "win_rates = pd.read_csv('win_rates.csv')\n",
    "scraped_games = pd.read_csv('scraped_games.csv')\n",
    "\n",
    "actual_win = []; predicted_win = []\n",
    "win_rate_1_list = []; win_rate_2_list = []\n",
    "win_diff_list = []\n",
    "for idx, row in scraped_games.iterrows():\n",
    "    score_1 = row['Score 1']\n",
    "    score_2 = row['Score 2']\n",
    "    \n",
    "    team_1 = row['Team 1']\n",
    "    team_2 = row['Team 2']\n",
    "    \n",
    "    # add winner\n",
    "    if score_1 > score_2:\n",
    "        winner = team_1\n",
    "    else:\n",
    "        winner = team_2\n",
    "    \n",
    "    actual_win.append(winner)\n",
    "    \n",
    "    # add predicted winner\n",
    "    win_rate_1 = win_rates[win_rates['NFL Name']==team_1]['Win Rate'].iloc[0]\n",
    "    win_rate_2 = win_rates[win_rates['NFL Name']==team_2]['Win Rate'].iloc[0]\n",
    "    \n",
    "    if win_rate_1 > win_rate_2:\n",
    "        winner = team_1\n",
    "    else:\n",
    "        winner = team_2\n",
    "    \n",
    "    predicted_win.append(winner)\n",
    "    win_rate_1_list.append(win_rate_1.round(3))\n",
    "    win_rate_2_list.append(win_rate_2.round(3))\n",
    "\n",
    "    win_diff = abs(win_rate_1.round(3) - win_rate_2.round(3))\n",
    "    win_diff_list.append(win_diff)\n",
    "    \n",
    "actual_df = pd.DataFrame(actual_win, columns=['Actual'])\n",
    "predicted_df = pd.DataFrame(predicted_win, columns=['Predicted'])\n",
    "win_rate_1_df = pd.DataFrame(win_rate_1_list, columns=['Win Rate 1'])\n",
    "win_rate_2_df = pd.DataFrame(win_rate_2_list, columns=['Win Rate 2'])\n",
    "win_diff_df = pd.DataFrame(win_diff_list, columns=['Win Diff'])\n",
    "\n",
    "correct_df = pd.DataFrame(actual_df['Actual'] == predicted_df['Predicted'],columns=['Pred Correct'])\n",
    "\n",
    "scraped_games = pd.concat([scraped_games, win_rate_1_df, win_rate_2_df, predicted_df, correct_df, win_diff_df], axis=1)\n",
    "scraped_games.to_csv('scraped_games_pred.csv', index=None)"
   ]
  },
  {
   "cell_type": "code",
   "execution_count": 72,
   "metadata": {},
   "outputs": [],
   "source": [
    "weeks = scraped_games['Week'].drop_duplicates().to_list()\n",
    "\n",
    "percent_list = []\n",
    "for week in weeks:\n",
    "    mid_df = scraped_games[scraped_games['Week']==week]\n",
    "    numerator = mid_df[mid_df['Pred Correct']==True].shape[0]\n",
    "    denominator = mid_df.shape[0]\n",
    "    percent = numerator / denominator\n",
    "    \n",
    "    lose = denominator - numerator\n",
    "        \n",
    "    mid_dict = {'Week':week,\n",
    "                '# Games':denominator,\n",
    "                'Win':numerator,\n",
    "                'Lose':lose,\n",
    "                'Percent':percent}\n",
    "    \n",
    "    percent_list.append(mid_dict)\n",
    "    \n",
    "df_week = pd.DataFrame(percent_list)[['Week','# Games','Win','Lose','Percent']]"
   ]
  },
  {
   "cell_type": "code",
   "execution_count": 84,
   "metadata": {},
   "outputs": [
    {
     "name": "stdout",
     "output_type": "stream",
     "text": [
      "0.5512820512820513\n"
     ]
    },
    {
     "data": {
      "text/plain": [
       "True     86\n",
       "False    70\n",
       "Name: Pred Correct, dtype: int64"
      ]
     },
     "execution_count": 84,
     "metadata": {},
     "output_type": "execute_result"
    }
   ],
   "source": [
    "numerator = scraped_games[scraped_games['Pred Correct']==True].shape[0]\n",
    "denominator = scraped_games.shape[0]\n",
    "percent = numerator / denominator\n",
    "\n",
    "print(percent)\n",
    "scraped_games['Pred Correct'].value_counts()"
   ]
  },
  {
   "cell_type": "code",
   "execution_count": 85,
   "metadata": {},
   "outputs": [],
   "source": [
    "df_week.to_clipboard()"
   ]
  },
  {
   "cell_type": "code",
   "execution_count": 82,
   "metadata": {},
   "outputs": [
    {
     "name": "stdout",
     "output_type": "stream",
     "text": [
      "0.060328571428571426\n",
      "0.05848837209302324\n"
     ]
    }
   ],
   "source": [
    "print(scraped_games[scraped_games['Pred Correct']==False]['Win Diff'].mean())\n",
    "print(scraped_games[scraped_games['Pred Correct']==True]['Win Diff'].mean())"
   ]
  },
  {
   "cell_type": "code",
   "execution_count": null,
   "metadata": {},
   "outputs": [],
   "source": []
  }
 ],
 "metadata": {
  "kernelspec": {
   "display_name": "Python 3",
   "language": "python",
   "name": "python3"
  },
  "language_info": {
   "codemirror_mode": {
    "name": "ipython",
    "version": 3
   },
   "file_extension": ".py",
   "mimetype": "text/x-python",
   "name": "python",
   "nbconvert_exporter": "python",
   "pygments_lexer": "ipython3",
   "version": "3.7.3"
  }
 },
 "nbformat": 4,
 "nbformat_minor": 2
}
